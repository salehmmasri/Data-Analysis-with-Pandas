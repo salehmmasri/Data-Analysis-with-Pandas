{
 "metadata": {
  "language_info": {
   "codemirror_mode": {
    "name": "ipython",
    "version": 3
   },
   "file_extension": ".py",
   "mimetype": "text/x-python",
   "name": "python",
   "nbconvert_exporter": "python",
   "pygments_lexer": "ipython3",
   "version": "3.8.5-final"
  },
  "orig_nbformat": 2,
  "kernelspec": {
   "name": "python_defaultSpec_1599242712344",
   "display_name": "Python 3.8.5 64-bit ('.venv': venv)"
  }
 },
 "nbformat": 4,
 "nbformat_minor": 2,
 "cells": [
  {
   "cell_type": "markdown",
   "metadata": {},
   "source": [
    "### Video Game Sales\n"
   ]
  },
  {
   "cell_type": "code",
   "execution_count": 3,
   "metadata": {},
   "outputs": [],
   "source": [
    "import pandas as pd\n",
    "import numpy as np\n",
    "# import matplotlib.pyplot as plt\n"
   ]
  },
  {
   "cell_type": "code",
   "execution_count": 12,
   "metadata": {},
   "outputs": [
    {
     "output_type": "execute_result",
     "data": {
      "text/plain": "   Rank                       Name Platform    Year         Genre Publisher  \\\n0     1                 Wii Sports      Wii  2006.0        Sports  Nintendo   \n1     2          Super Mario Bros.      NES  1985.0      Platform  Nintendo   \n2     3             Mario Kart Wii      Wii  2008.0        Racing  Nintendo   \n3     4          Wii Sports Resort      Wii  2009.0        Sports  Nintendo   \n4     5   Pokemon Red/Pokemon Blue       GB  1996.0  Role-Playing  Nintendo   \n5     6                     Tetris       GB  1989.0        Puzzle  Nintendo   \n6     7      New Super Mario Bros.       DS  2006.0      Platform  Nintendo   \n7     8                   Wii Play      Wii  2006.0          Misc  Nintendo   \n8     9  New Super Mario Bros. Wii      Wii  2009.0      Platform  Nintendo   \n9    10                  Duck Hunt      NES  1984.0       Shooter  Nintendo   \n\n   NA_Sales  EU_Sales  JP_Sales  Other_Sales  Global_Sales  \n0     41.49     29.02      3.77         8.46         82.74  \n1     29.08      3.58      6.81         0.77         40.24  \n2     15.85     12.88      3.79         3.31         35.82  \n3     15.75     11.01      3.28         2.96         33.00  \n4     11.27      8.89     10.22         1.00         31.37  \n5     23.20      2.26      4.22         0.58         30.26  \n6     11.38      9.23      6.50         2.90         30.01  \n7     14.03      9.20      2.93         2.85         29.02  \n8     14.59      7.06      4.70         2.26         28.62  \n9     26.93      0.63      0.28         0.47         28.31  ",
      "text/html": "<div>\n<style scoped>\n    .dataframe tbody tr th:only-of-type {\n        vertical-align: middle;\n    }\n\n    .dataframe tbody tr th {\n        vertical-align: top;\n    }\n\n    .dataframe thead th {\n        text-align: right;\n    }\n</style>\n<table border=\"1\" class=\"dataframe\">\n  <thead>\n    <tr style=\"text-align: right;\">\n      <th></th>\n      <th>Rank</th>\n      <th>Name</th>\n      <th>Platform</th>\n      <th>Year</th>\n      <th>Genre</th>\n      <th>Publisher</th>\n      <th>NA_Sales</th>\n      <th>EU_Sales</th>\n      <th>JP_Sales</th>\n      <th>Other_Sales</th>\n      <th>Global_Sales</th>\n    </tr>\n  </thead>\n  <tbody>\n    <tr>\n      <th>0</th>\n      <td>1</td>\n      <td>Wii Sports</td>\n      <td>Wii</td>\n      <td>2006.0</td>\n      <td>Sports</td>\n      <td>Nintendo</td>\n      <td>41.49</td>\n      <td>29.02</td>\n      <td>3.77</td>\n      <td>8.46</td>\n      <td>82.74</td>\n    </tr>\n    <tr>\n      <th>1</th>\n      <td>2</td>\n      <td>Super Mario Bros.</td>\n      <td>NES</td>\n      <td>1985.0</td>\n      <td>Platform</td>\n      <td>Nintendo</td>\n      <td>29.08</td>\n      <td>3.58</td>\n      <td>6.81</td>\n      <td>0.77</td>\n      <td>40.24</td>\n    </tr>\n    <tr>\n      <th>2</th>\n      <td>3</td>\n      <td>Mario Kart Wii</td>\n      <td>Wii</td>\n      <td>2008.0</td>\n      <td>Racing</td>\n      <td>Nintendo</td>\n      <td>15.85</td>\n      <td>12.88</td>\n      <td>3.79</td>\n      <td>3.31</td>\n      <td>35.82</td>\n    </tr>\n    <tr>\n      <th>3</th>\n      <td>4</td>\n      <td>Wii Sports Resort</td>\n      <td>Wii</td>\n      <td>2009.0</td>\n      <td>Sports</td>\n      <td>Nintendo</td>\n      <td>15.75</td>\n      <td>11.01</td>\n      <td>3.28</td>\n      <td>2.96</td>\n      <td>33.00</td>\n    </tr>\n    <tr>\n      <th>4</th>\n      <td>5</td>\n      <td>Pokemon Red/Pokemon Blue</td>\n      <td>GB</td>\n      <td>1996.0</td>\n      <td>Role-Playing</td>\n      <td>Nintendo</td>\n      <td>11.27</td>\n      <td>8.89</td>\n      <td>10.22</td>\n      <td>1.00</td>\n      <td>31.37</td>\n    </tr>\n    <tr>\n      <th>5</th>\n      <td>6</td>\n      <td>Tetris</td>\n      <td>GB</td>\n      <td>1989.0</td>\n      <td>Puzzle</td>\n      <td>Nintendo</td>\n      <td>23.20</td>\n      <td>2.26</td>\n      <td>4.22</td>\n      <td>0.58</td>\n      <td>30.26</td>\n    </tr>\n    <tr>\n      <th>6</th>\n      <td>7</td>\n      <td>New Super Mario Bros.</td>\n      <td>DS</td>\n      <td>2006.0</td>\n      <td>Platform</td>\n      <td>Nintendo</td>\n      <td>11.38</td>\n      <td>9.23</td>\n      <td>6.50</td>\n      <td>2.90</td>\n      <td>30.01</td>\n    </tr>\n    <tr>\n      <th>7</th>\n      <td>8</td>\n      <td>Wii Play</td>\n      <td>Wii</td>\n      <td>2006.0</td>\n      <td>Misc</td>\n      <td>Nintendo</td>\n      <td>14.03</td>\n      <td>9.20</td>\n      <td>2.93</td>\n      <td>2.85</td>\n      <td>29.02</td>\n    </tr>\n    <tr>\n      <th>8</th>\n      <td>9</td>\n      <td>New Super Mario Bros. Wii</td>\n      <td>Wii</td>\n      <td>2009.0</td>\n      <td>Platform</td>\n      <td>Nintendo</td>\n      <td>14.59</td>\n      <td>7.06</td>\n      <td>4.70</td>\n      <td>2.26</td>\n      <td>28.62</td>\n    </tr>\n    <tr>\n      <th>9</th>\n      <td>10</td>\n      <td>Duck Hunt</td>\n      <td>NES</td>\n      <td>1984.0</td>\n      <td>Shooter</td>\n      <td>Nintendo</td>\n      <td>26.93</td>\n      <td>0.63</td>\n      <td>0.28</td>\n      <td>0.47</td>\n      <td>28.31</td>\n    </tr>\n  </tbody>\n</table>\n</div>"
     },
     "metadata": {},
     "execution_count": 12
    }
   ],
   "source": [
    "df = pd.read_csv('./vgsales.csv')\n",
    "df.head(10)"
   ]
  },
  {
   "cell_type": "code",
   "execution_count": 5,
   "metadata": {},
   "outputs": [
    {
     "output_type": "execute_result",
     "data": {
      "text/plain": "Index(['Rank', 'Name', 'Platform', 'Year', 'Genre', 'Publisher', 'NA_Sales',\n       'EU_Sales', 'JP_Sales', 'Other_Sales', 'Global_Sales'],\n      dtype='object')"
     },
     "metadata": {},
     "execution_count": 5
    }
   ],
   "source": [
    "# df.head(15)\n",
    "df.describe()\n",
    "df.keys()"
   ]
  },
  {
   "cell_type": "markdown",
   "metadata": {},
   "source": [
    "## Which company is the most common video game publisher?\n"
   ]
  },
  {
   "cell_type": "code",
   "execution_count": 6,
   "metadata": {},
   "outputs": [
    {
     "output_type": "execute_result",
     "data": {
      "text/plain": "'Electronic Arts'"
     },
     "metadata": {},
     "execution_count": 6
    }
   ],
   "source": [
    "# df.sort_values('Publisher', ascending=True).head(1)\n",
    "# df.groupby('Publisher').max()\n",
    "# df.sort_values('Publisher', ascending=False).head(1)\n",
    "df['Publisher'].value_counts().idxmax()"
   ]
  },
  {
   "cell_type": "markdown",
   "metadata": {},
   "source": [
    "### the most common platform"
   ]
  },
  {
   "cell_type": "code",
   "execution_count": 7,
   "metadata": {},
   "outputs": [
    {
     "output_type": "execute_result",
     "data": {
      "text/plain": "'DS'"
     },
     "metadata": {},
     "execution_count": 7
    }
   ],
   "source": [
    "df['Platform'].value_counts().idxmax()"
   ]
  },
  {
   "cell_type": "markdown",
   "metadata": {},
   "source": [
    "### the most common genre\n"
   ]
  },
  {
   "cell_type": "code",
   "execution_count": 8,
   "metadata": {},
   "outputs": [
    {
     "output_type": "execute_result",
     "data": {
      "text/plain": "'Action'"
     },
     "metadata": {},
     "execution_count": 8
    }
   ],
   "source": [
    "df['Genre'].value_counts().idxmax()"
   ]
  },
  {
   "cell_type": "markdown",
   "metadata": {},
   "source": [
    "### the top 20 highest grossing games\n"
   ]
  },
  {
   "cell_type": "code",
   "execution_count": 14,
   "metadata": {},
   "outputs": [
    {
     "output_type": "execute_result",
     "data": {
      "text/plain": "0                                       Wii Sports\n1                                Super Mario Bros.\n2                                   Mario Kart Wii\n3                                Wii Sports Resort\n4                         Pokemon Red/Pokemon Blue\n5                                           Tetris\n6                            New Super Mario Bros.\n7                                         Wii Play\n8                        New Super Mario Bros. Wii\n9                                        Duck Hunt\n10                                      Nintendogs\n11                                   Mario Kart DS\n12                     Pokemon Gold/Pokemon Silver\n13                                         Wii Fit\n14                                    Wii Fit Plus\n15                              Kinect Adventures!\n16                              Grand Theft Auto V\n17                   Grand Theft Auto: San Andreas\n18                               Super Mario World\n19    Brain Age: Train Your Brain in Minutes a Day\nName: Name, dtype: object"
     },
     "metadata": {},
     "execution_count": 14
    }
   ],
   "source": [
    "df.sort_values('Global_Sales', ascending=False).head(20)['Name']\n"
   ]
  },
  {
   "cell_type": "code",
   "execution_count": 16,
   "metadata": {},
   "outputs": [
    {
     "output_type": "execute_result",
     "data": {
      "text/plain": "0                                       Wii Sports\n1                                Super Mario Bros.\n2                                   Mario Kart Wii\n3                                Wii Sports Resort\n4                         Pokemon Red/Pokemon Blue\n5                                           Tetris\n6                            New Super Mario Bros.\n7                                         Wii Play\n8                        New Super Mario Bros. Wii\n9                                        Duck Hunt\n10                                      Nintendogs\n11                                   Mario Kart DS\n12                     Pokemon Gold/Pokemon Silver\n13                                         Wii Fit\n14                                    Wii Fit Plus\n15                              Kinect Adventures!\n16                              Grand Theft Auto V\n17                   Grand Theft Auto: San Andreas\n18                               Super Mario World\n19    Brain Age: Train Your Brain in Minutes a Day\nName: Name, dtype: object"
     },
     "metadata": {},
     "execution_count": 16
    }
   ],
   "source": [
    "df.nlargest(20,['Global_Sales'])['Name']\n"
   ]
  },
  {
   "cell_type": "markdown",
   "metadata": {},
   "source": [
    "### the median For North American video game sales\n"
   ]
  },
  {
   "cell_type": "code",
   "execution_count": 18,
   "metadata": {},
   "outputs": [
    {
     "output_type": "execute_result",
     "data": {
      "text/plain": "137                               World of Warcraft\n446                               Dragon Warrior IV\n497     World Soccer Winning Eleven 7 International\n504                               Colin McRae Rally\n704                   TOCA Touring Car Championship\n1353             Dragon Quest VII: Warriors of Eden\n1617                         Farming Simulator 2015\n1690                      Pro Evolution Soccer 2008\n1926                      Pro Evolution Soccer 2008\n1993                               Tales of Destiny\nName: Name, dtype: object"
     },
     "metadata": {},
     "execution_count": 18
    }
   ],
   "source": [
    "md = df.loc[:,\"NA_Sales\"].median()\n",
    "df[\"NA_Sales\"].median()\n",
    "df[(df['NA_Sales']>= df['NA_Sales'].median()-0.01) & (df['NA_Sales'] <= df['NA_Sales'].median()+0.01)].head(10)['Name']"
   ]
  },
  {
   "cell_type": "code",
   "execution_count": 20,
   "metadata": {},
   "outputs": [
    {
     "output_type": "execute_result",
     "data": {
      "text/plain": "446                                     Dragon Warrior IV\n497           World Soccer Winning Eleven 7 International\n1617                               Farming Simulator 2015\n1926                            Pro Evolution Soccer 2008\n2067    Winning Eleven: Pro Evolution Soccer 2007 (All...\n2373                             Phantasy Star Portable 2\n2579                                 The Sims 2: Castaway\n3186                                       SingStar Queen\n3503                                           Top Spin 3\n3703                 Sonic & All-Stars Racing Transformed\nName: Name, dtype: object"
     },
     "metadata": {},
     "execution_count": 20
    }
   ],
   "source": [
    "df[df['NA_Sales'] == md].head(10)['Name']\n"
   ]
  },
  {
   "cell_type": "code",
   "execution_count": 21,
   "metadata": {},
   "outputs": [
    {
     "output_type": "execute_result",
     "data": {
      "text/plain": "50.47898767479108"
     },
     "metadata": {},
     "execution_count": 21
    }
   ],
   "source": [
    "\n",
    "globl_top_sales = df.iloc[0].NA_Sales\n",
    "globl_top_sales\n",
    "\n",
    "na_sal_men = df['NA_Sales'].mean()\n",
    "na_sal_men\n",
    "\n",
    "na_sal_std = df['NA_Sales'].std()\n",
    "na_sal_std\n",
    "\n",
    "dis = globl_top_sales - na_sal_men\n",
    "dis\n",
    "\n",
    "ans = dis/na_sal_std\n",
    "ans"
   ]
  },
  {
   "cell_type": "code",
   "execution_count": 22,
   "metadata": {
    "tags": []
   },
   "outputs": [
    {
     "output_type": "stream",
     "name": "stdout",
     "text": "Wii Mean: 0.6994037735849057\nNot Wii Mean: 0.5233896418516336\nDiff is: 0.17601413173327207\n"
    }
   ],
   "source": [
    "wii = df[ df['Platform'] == 'Wii' ]\n",
    "wii_mean = wii.mean()['Global_Sales']\n",
    "\n",
    "not_wii = df[ df['Platform'] != 'Wii' ]\n",
    "not_wii_mean = not_wii.mean()['Global_Sales']\n",
    "\n",
    "print(f\"Wii Mean: {wii_mean}\")\n",
    "print(f\"Not Wii Mean: {not_wii_mean}\")\n",
    "\n",
    "print(f\"Diff is: {abs(wii_mean - not_wii_mean)}\")"
   ]
  },
  {
   "cell_type": "code",
   "execution_count": 25,
   "metadata": {},
   "outputs": [
    {
     "output_type": "execute_result",
     "data": {
      "text/plain": "11493"
     },
     "metadata": {},
     "execution_count": 25
    }
   ],
   "source": [
    "games_number = df['Name'].nunique()\n",
    "games_number"
   ]
  },
  {
   "cell_type": "code",
   "execution_count": 31,
   "metadata": {},
   "outputs": [
    {
     "output_type": "execute_result",
     "data": {
      "text/plain": "31"
     },
     "metadata": {},
     "execution_count": 31
    }
   ],
   "source": [
    "platforms_number = df['Platform'].nunique()\n",
    "platforms_number"
   ]
  },
  {
   "cell_type": "code",
   "execution_count": 28,
   "metadata": {},
   "outputs": [
    {
     "output_type": "execute_result",
     "data": {
      "text/plain": "2020.0"
     },
     "metadata": {},
     "execution_count": 28
    }
   ],
   "source": [
    "last_year = df['Year'].max()\n",
    "last_year"
   ]
  },
  {
   "cell_type": "code",
   "execution_count": 29,
   "metadata": {},
   "outputs": [
    {
     "output_type": "error",
     "ename": "NameError",
     "evalue": "name 'most_common_publisher' is not defined",
     "traceback": [
      "\u001b[0;31m---------------------------------------------------------------------------\u001b[0m",
      "\u001b[0;31mNameError\u001b[0m                                 Traceback (most recent call last)",
      "\u001b[0;32m<ipython-input-29-fef480ff4b66>\u001b[0m in \u001b[0;36m<module>\u001b[0;34m\u001b[0m\n\u001b[1;32m     14\u001b[0m     \u001b[0mprint\u001b[0m\u001b[0;34m(\u001b[0m\u001b[0;34m\"Success!!!\"\u001b[0m\u001b[0;34m)\u001b[0m\u001b[0;34m\u001b[0m\u001b[0;34m\u001b[0m\u001b[0m\n\u001b[1;32m     15\u001b[0m \u001b[0;34m\u001b[0m\u001b[0m\n\u001b[0;32m---> 16\u001b[0;31m \u001b[0mtest\u001b[0m\u001b[0;34m(\u001b[0m\u001b[0;34m)\u001b[0m\u001b[0;34m\u001b[0m\u001b[0;34m\u001b[0m\u001b[0m\n\u001b[0m",
      "\u001b[0;32m<ipython-input-29-fef480ff4b66>\u001b[0m in \u001b[0;36mtest\u001b[0;34m()\u001b[0m\n\u001b[1;32m      4\u001b[0m         \u001b[0;32massert\u001b[0m \u001b[0mactual\u001b[0m \u001b[0;34m==\u001b[0m \u001b[0mexpected\u001b[0m\u001b[0;34m,\u001b[0m \u001b[0;34mf\"Expected {expected} but got {actual}\"\u001b[0m\u001b[0;34m\u001b[0m\u001b[0;34m\u001b[0m\u001b[0m\n\u001b[1;32m      5\u001b[0m \u001b[0;34m\u001b[0m\u001b[0m\n\u001b[0;32m----> 6\u001b[0;31m     \u001b[0massert_equal\u001b[0m\u001b[0;34m(\u001b[0m\u001b[0mmost_common_publisher\u001b[0m\u001b[0;34m,\u001b[0m \u001b[0;32mNone\u001b[0m\u001b[0;34m)\u001b[0m\u001b[0;34m\u001b[0m\u001b[0;34m\u001b[0m\u001b[0m\n\u001b[0m\u001b[1;32m      7\u001b[0m     \u001b[0massert_equal\u001b[0m\u001b[0;34m(\u001b[0m\u001b[0mmost_common_platform\u001b[0m\u001b[0;34m,\u001b[0m \u001b[0;32mNone\u001b[0m\u001b[0;34m)\u001b[0m\u001b[0;34m\u001b[0m\u001b[0;34m\u001b[0m\u001b[0m\n\u001b[1;32m      8\u001b[0m     \u001b[0massert_equal\u001b[0m\u001b[0;34m(\u001b[0m\u001b[0mmost_common_genre\u001b[0m\u001b[0;34m,\u001b[0m \u001b[0;32mNone\u001b[0m\u001b[0;34m)\u001b[0m\u001b[0;34m\u001b[0m\u001b[0;34m\u001b[0m\u001b[0m\n",
      "\u001b[0;31mNameError\u001b[0m: name 'most_common_publisher' is not defined"
     ]
    }
   ],
   "source": [
    "def test():\n",
    "\n",
    "    def assert_equal(actual,expected):\n",
    "        assert actual == expected, f\"Expected {expected} but got {actual}\"\n",
    "\n",
    "    assert_equal(most_common_publisher, None)\n",
    "    assert_equal(most_common_platform, None)\n",
    "    assert_equal(most_common_genre, None)\n",
    "    assert_equal(top_twenty_highest_grossing_games.iloc[0].Name, None)\n",
    "    assert_equal(top_twenty_highest_grossing_games.iloc[19].Name, None)\n",
    "    assert_equal(na_median_sales, None)\n",
    "    assert_equal(ten_median_na_seller_names, None)\n",
    "\n",
    "    print(\"Success!!!\")\n",
    "\n",
    "test()"
   ]
  },
  {
   "cell_type": "code",
   "execution_count": null,
   "metadata": {},
   "outputs": [],
   "source": []
  },
  {
   "cell_type": "code",
   "execution_count": null,
   "metadata": {},
   "outputs": [],
   "source": []
  },
  {
   "cell_type": "code",
   "execution_count": null,
   "metadata": {},
   "outputs": [],
   "source": []
  }
 ]
}